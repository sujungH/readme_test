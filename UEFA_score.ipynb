{
  "nbformat": 4,
  "nbformat_minor": 0,
  "metadata": {
    "colab": {
      "provenance": [],
      "include_colab_link": true
    },
    "kernelspec": {
      "name": "python3",
      "display_name": "Python 3"
    },
    "language_info": {
      "name": "python"
    }
  },
  "cells": [
    {
      "cell_type": "markdown",
      "metadata": {
        "id": "view-in-github",
        "colab_type": "text"
      },
      "source": [
        "<a href=\"https://colab.research.google.com/github/sujungH/readme_test/blob/main/UEFA_score.ipynb\" target=\"_parent\"><img src=\"https://colab.research.google.com/assets/colab-badge.svg\" alt=\"Open In Colab\"/></a>"
      ]
    },
    {
      "cell_type": "code",
      "execution_count": null,
      "metadata": {
        "id": "y84P4E4Q1sd-"
      },
      "outputs": [],
      "source": [
        "import numpy as np\n",
        "import pandas as pd\n",
        "import random\n",
        "import matplotlib.pyplot as plt\n",
        "import cv2"
      ]
    },
    {
      "cell_type": "code",
      "source": [
        "from google.colab import drive\n",
        "\n",
        "drive.mount('/content/gdrive')\n",
        "print('/content/gdrive/lab_study/UEFA.txt')\n",
        "f= open(\"/content/gdrive/MyDrive/lab_study/UEFA.txt\",'r')\n",
        "data=f.read().splitlines()\n",
        "UEFA=[x.split() for x in data]\n",
        "print(UEFA)"
      ],
      "metadata": {
        "colab": {
          "base_uri": "https://localhost:8080/"
        },
        "id": "1R5Jqnec1uO-",
        "outputId": "697a8070-8ebf-4ba4-e90f-06631536ed62"
      },
      "execution_count": null,
      "outputs": [
        {
          "output_type": "stream",
          "name": "stdout",
          "text": [
            "Drive already mounted at /content/gdrive; to attempt to forcibly remount, call drive.mount(\"/content/gdrive\", force_remount=True).\n",
            "/content/gdrive/lab_study/UEFA.txt\n",
            "[['UK_mancity'], ['FR_paris'], ['GE_leipzig'], ['BE_clubbrugge'], ['SP_atletico'], ['UK_liverpool'], ['PO_porto'], ['IT_milan'], ['PO_sportingCP'], ['GE_dortmund'], ['NE_ajax'], ['TU_besiktas'], ['IT_inter'], ['SP_realmadrid'], ['UR_shakhtardonetsk'], ['Mo_sheriff'], ['GE_bayern'], ['SP_barcelona'], ['PO_benfica'], ['UR_dynamokyiv'], ['SP_villareal'], ['UK_manunited'], ['IT_atalanta'], ['SW_youngboys'], ['FR_LOSC'], ['SP_sevilla'], ['AU_salzburg'], ['GE_wolfsburg'], ['UK_chelsea'], ['IT_juventus'], ['RU_zenit'], ['Sd_malmo']]\n"
          ]
        }
      ]
    },
    {
      "cell_type": "markdown",
      "source": [
        "## 점수 부여 함수"
      ],
      "metadata": {
        "id": "J4CY_5XgfcO9"
      }
    },
    {
      "cell_type": "code",
      "source": [
        "def Score(home,go):\n",
        "\n",
        "  # 각 팀마다 랜덤 점수 부여\n",
        "  home_goal = random.choices(range(0,6), weights= [0.2,0.25,0.25,0.15,0.1,0.05]) # 홈에서 경기하는 팀\n",
        "  go_goal = random.choices(range(0,6), weights= [0.2,0.25,0.25,0.15,0.1,0.05]) # 원정 가서 경기하는 팀\n",
        "\n",
        "  home_score = go_score = 0\n",
        "\n",
        "  # 규칙1 승점 차이 \n",
        "  if home_goal > go_goal:\n",
        "    home_score += 3 * 1000\n",
        "    go_score += 0 * 1000\n",
        "  elif home_goal == go_goal:\n",
        "    home_score += 1 * 1000\n",
        "    go_score += 1 * 1000\n",
        "  else:\n",
        "    home_score += 0 * 1000\n",
        "    go_score += 3 * 1000\n",
        "\n",
        "  # 규칙2 득실차\n",
        "  if home_goal > go_goal:\n",
        "    home_score += ((home_goal[0] - go_goal[0]) * 100)\n",
        "    go_score += ((home_goal[0] - go_goal[0]) * 100)\n",
        "\n",
        "  elif home_goal == go_goal:\n",
        "    home_score += ((home_goal[0] - go_goal[0]) * 100)\n",
        "    go_score += ((home_goal[0] - go_goal[0]) * 100)\n",
        "  else:\n",
        "    home_score += ((go_goal[0] - home_goal[0]) * 100)\n",
        "    go_score += ((go_goal[0] - home_goal[0]) * 100)\n",
        "\n",
        "  # 규칙3 다득점\n",
        "  home_score += home_goal[0] * 10\n",
        "  go_score += go_goal[0] * 10\n",
        "\n",
        "  # 규칙4 원정 & 홈\n",
        "  home_score += 0\n",
        "  go_score += 5\n",
        "\n",
        "  return home_score, go_score"
      ],
      "metadata": {
        "id": "Y6cmekEe13mo"
      },
      "execution_count": null,
      "outputs": []
    },
    {
      "cell_type": "markdown",
      "source": [
        "## 32 - 16 올라갈때 랭킹"
      ],
      "metadata": {
        "id": "4Xhtzl_Cfus6"
      }
    },
    {
      "cell_type": "code",
      "source": [
        "def Ranking(A,B,C,D):\n",
        "\n",
        "  rank = []\n",
        "\n",
        "  # 1 ~ 12 번째 까지의 경기\n",
        "  # Home 경기\n",
        "  score_A_1,score_B_1=Score(A,B)\n",
        "  score_A_2,score_C_2=Score(A,C)\n",
        "  score_A_3,score_D_1=Score(A,D)\n",
        "  score_B_2,score_C_3=Score(B,C)\n",
        "  score_B_3,score_D_2=Score(B,D)\n",
        "  score_C_1,score_D_3=Score(C,D)\n",
        "\n",
        "  # go 경기\n",
        "  score_B_4,score_A_4=Score(B,A)\n",
        "  score_C_4,score_A_5=Score(C,A)\n",
        "  score_D_4,score_A_6=Score(D,A)\n",
        "  score_C_5,score_B_5=Score(C,B)\n",
        "  score_D_5,score_B_6=Score(D,B)\n",
        "  score_D_6,score_C_6=Score(D,C)\n",
        "\n",
        "  # 각 팀마다의 경기 점수 총합\n",
        "  team_A = score_A_1 + score_A_2 + score_A_3 + score_A_4 + score_A_5 + score_A_6 \n",
        "  team_B = score_B_1 + score_B_2 + score_B_3 + score_B_4 + score_B_5 + score_B_6 \n",
        "  team_C = score_C_1 + score_C_2 + score_C_3 + score_C_4 + score_C_5 + score_C_6 \n",
        "  team_D = score_D_1 + score_D_2 + score_D_3 + score_D_4 + score_D_5 + score_D_6 \n",
        "\n",
        "  rank.append([team_A,A])\n",
        "  rank.append([team_B,B])\n",
        "  rank.append([team_C,C])\n",
        "  rank.append([team_D,D])\n",
        "\n",
        "  rank.sort(reverse=True)\n",
        "\n",
        "  return rank[0][1], rank[1][1]"
      ],
      "metadata": {
        "id": "leh6syu-LwfU"
      },
      "execution_count": null,
      "outputs": []
    },
    {
      "cell_type": "markdown",
      "source": [
        "## 두팀 점수 비교  (토너먼트)"
      ],
      "metadata": {
        "id": "iio0XTxdfzkw"
      }
    },
    {
      "cell_type": "code",
      "source": [
        "def Match(A,B):\n",
        "\n",
        "  # A의 홈경기\n",
        "  score_Ah,score_Bg=Score(A,B)\n",
        "\n",
        "  # B의 홈경기\n",
        "  score_Bh,score_Ag=Score(B,A)\n",
        "\n",
        "  score_At = score_Ah + score_Ag\n",
        "  score_Bt = score_Bh + score_Bg\n",
        "\n",
        "  if score_At > score_Bt:\n",
        "    return A\n",
        "  else:\n",
        "    return B"
      ],
      "metadata": {
        "id": "je5_o2xZcG7o"
      },
      "execution_count": null,
      "outputs": []
    },
    {
      "cell_type": "markdown",
      "source": [
        "## 포트"
      ],
      "metadata": {
        "id": "fw8GAyHNBQW7"
      }
    },
    {
      "cell_type": "code",
      "source": [
        "UEFA_name = sum(UEFA,[])\n",
        "UEFA_name_port = sum(UEFA,[])\n",
        "\n",
        "port1 = random.sample(UEFA_name_port, 8)\n",
        "for i in range(len(port1)):\n",
        "  UEFA_name_port.remove(port1[i])\n",
        "\n",
        "\n",
        "port2 = random.sample(UEFA_name_port, 8)\n",
        "for i in range(len(port2)):\n",
        "  UEFA_name_port.remove(port2[i])\n",
        "\n",
        "port3 = random.sample(UEFA_name_port, 8)\n",
        "for i in range(len(port3)):\n",
        "  UEFA_name_port.remove(port3[i])\n",
        "\n",
        "port4 = UEFA_name_port\n",
        "\n",
        "groupA=[port1[0]]+[port2[0]]+[port3[0]]+[port4[0]]\n",
        "groupB=[port1[1]]+[port2[1]]+[port3[1]]+[port4[1]]\n",
        "groupC=[port1[2]]+[port2[2]]+[port3[2]]+[port4[2]]\n",
        "groupD=[port1[3]]+[port2[3]]+[port3[3]]+[port4[3]]\n",
        "groupE=[port1[4]]+[port2[4]]+[port3[4]]+[port4[4]]\n",
        "groupF=[port1[5]]+[port2[5]]+[port3[5]]+[port4[5]]\n",
        "groupG=[port1[6]]+[port2[6]]+[port3[6]]+[port4[6]]\n",
        "groupH=[port1[7]]+[port2[7]]+[port3[7]]+[port4[7]]"
      ],
      "metadata": {
        "id": "yF5YIm9FBB5u"
      },
      "execution_count": null,
      "outputs": []
    },
    {
      "cell_type": "markdown",
      "source": [
        "## 경기"
      ],
      "metadata": {
        "id": "4rmF2tKDD5oT"
      }
    },
    {
      "cell_type": "markdown",
      "source": [
        "### 32강 경기"
      ],
      "metadata": {
        "id": "IHY7h6kkBfky"
      }
    },
    {
      "cell_type": "code",
      "source": [
        "groupA_1, groupA_2 = Ranking(groupA[0],groupA[1],groupA[2],groupA[3])\n",
        "groupB_1, groupB_2 = Ranking(groupB[0],groupB[1],groupB[2],groupB[3])\n",
        "groupC_1, groupC_2 = Ranking(groupC[0],groupC[1],groupC[2],groupC[3])\n",
        "groupD_1, groupD_2 = Ranking(groupD[0],groupD[1],groupD[2],groupD[3])\n",
        "groupE_1, groupE_2 = Ranking(groupE[0],groupE[1],groupE[2],groupE[3])\n",
        "groupF_1, groupF_2 = Ranking(groupF[0],groupF[1],groupF[2],groupF[3])\n",
        "groupG_1, groupG_2 = Ranking(groupG[0],groupG[1],groupG[2],groupG[3])\n",
        "groupH_1, groupH_2 = Ranking(groupH[0],groupH[1],groupH[2],groupH[3])\n",
        "\n",
        "print(groupA_1, groupA_2,groupB_1, groupB_2,groupC_1, groupC_2,groupD_1, groupD_2,groupE_1, groupE_2,groupF_1, groupF_2,groupG_1, groupG_2,groupH_1, groupH_2)"
      ],
      "metadata": {
        "colab": {
          "base_uri": "https://localhost:8080/"
        },
        "id": "yrOk4IcJBfHu",
        "outputId": "a52096e0-c04e-4dcf-c7c0-92c85889707c"
      },
      "execution_count": null,
      "outputs": [
        {
          "output_type": "stream",
          "name": "stdout",
          "text": [
            "UK_liverpool GE_bayern Sd_malmo IT_milan FR_paris UK_mancity RU_zenit PO_benfica SW_youngboys PO_sportingCP GE_dortmund AU_salzburg SP_atletico GE_leipzig UK_manunited UR_shakhtardonetsk\n"
          ]
        }
      ]
    },
    {
      "cell_type": "markdown",
      "source": [
        "### 16강 경기"
      ],
      "metadata": {
        "id": "m4DjhvBTD3h4"
      }
    },
    {
      "cell_type": "code",
      "source": [
        "match_16_1 = Match(groupA_1,groupB_2)\n",
        "match_16_2 = Match(groupB_1,groupA_2)\n",
        "match_16_3 = Match(groupC_1,groupD_2)\n",
        "match_16_4 = Match(groupD_1,groupC_2)\n",
        "match_16_5 = Match(groupE_1,groupF_2)\n",
        "match_16_6 = Match(groupF_1,groupE_2)\n",
        "match_16_7 = Match(groupG_1,groupH_2)\n",
        "match_16_8 = Match(groupH_1,groupG_2)\n",
        "\n",
        "print(match_16_1,match_16_2,match_16_3,match_16_4,match_16_5,match_16_6,match_16_7,match_16_8)"
      ],
      "metadata": {
        "colab": {
          "base_uri": "https://localhost:8080/"
        },
        "id": "m024OCtSD3P9",
        "outputId": "39137127-ccb6-4235-ae02-ce98214d9eae"
      },
      "execution_count": null,
      "outputs": [
        {
          "output_type": "stream",
          "name": "stdout",
          "text": [
            "UK_liverpool GE_bayern PO_benfica UK_mancity AU_salzburg PO_sportingCP SP_atletico GE_leipzig\n"
          ]
        }
      ]
    },
    {
      "cell_type": "markdown",
      "source": [
        "### 8강 경기"
      ],
      "metadata": {
        "id": "jBI5PF8gFb-G"
      }
    },
    {
      "cell_type": "code",
      "source": [
        "match_8_1 = Match(match_16_1,match_16_2)\n",
        "match_8_2 = Match(match_16_3,match_16_4)\n",
        "match_8_3 = Match(match_16_5,match_16_6)\n",
        "match_8_4 = Match(match_16_7,match_16_8)\n",
        "\n",
        "print(match_8_1,match_8_2,match_8_3,match_8_4)"
      ],
      "metadata": {
        "colab": {
          "base_uri": "https://localhost:8080/"
        },
        "id": "0ChAoqEqFbwK",
        "outputId": "1b23cb1d-aead-4402-aa3c-6e0ea15eef84"
      },
      "execution_count": null,
      "outputs": [
        {
          "output_type": "stream",
          "name": "stdout",
          "text": [
            "GE_bayern UK_mancity AU_salzburg SP_atletico\n"
          ]
        }
      ]
    },
    {
      "cell_type": "markdown",
      "source": [
        "### 4강 경기"
      ],
      "metadata": {
        "id": "sj8uPG7nFev4"
      }
    },
    {
      "cell_type": "code",
      "source": [
        "match_4_1 = Match(match_8_1,match_8_2)\n",
        "match_4_2 = Match(match_8_3,match_8_4)\n",
        "\n",
        "print(match_4_1,match_4_2)"
      ],
      "metadata": {
        "colab": {
          "base_uri": "https://localhost:8080/"
        },
        "id": "28mRyZzzFebu",
        "outputId": "63c7dcf9-9db5-4f64-bebf-380e132840dc"
      },
      "execution_count": null,
      "outputs": [
        {
          "output_type": "stream",
          "name": "stdout",
          "text": [
            "GE_bayern AU_salzburg\n"
          ]
        }
      ]
    },
    {
      "cell_type": "markdown",
      "source": [
        "### 결승전"
      ],
      "metadata": {
        "id": "Ezm9JL0dFf-o"
      }
    },
    {
      "cell_type": "code",
      "source": [
        "winer = Match(match_4_1,match_4_2)\n",
        "\n",
        "print(winer)"
      ],
      "metadata": {
        "colab": {
          "base_uri": "https://localhost:8080/"
        },
        "id": "Bx1U1kx5FggJ",
        "outputId": "281e2333-6b0f-4c4f-8daa-e3f77cd16723"
      },
      "execution_count": null,
      "outputs": [
        {
          "output_type": "stream",
          "name": "stdout",
          "text": [
            "AU_salzburg\n"
          ]
        }
      ]
    }
  ]
}